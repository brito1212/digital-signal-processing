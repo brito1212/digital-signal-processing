{
 "cells": [
  {
   "cell_type": "markdown",
   "metadata": {},
   "source": [
    "Nome: Felipe Faustino Brito\n",
    "\n",
    "Matrícula: 2021007366"
   ]
  },
  {
   "cell_type": "markdown",
   "metadata": {},
   "source": [
    "# Sistemas Discretos"
   ]
  },
  {
   "cell_type": "markdown",
   "metadata": {},
   "source": [
    "### 1) Seja o sistema dinâmico modelado pela seguinte função de transferência:\n",
    "\n",
    "$$\n",
    "𝐻(𝑠) = \\frac{5,265}{s² + 1,455s + 5,265}\n",
    "$$\n"
   ]
  },
  {
   "cell_type": "markdown",
   "metadata": {},
   "source": [
    "***\n",
    "#### a) Convertê-lo para discreto com o período de amostragem Ts=0,01s"
   ]
  },
  {
   "cell_type": "markdown",
   "metadata": {},
   "source": [
    "Resposta: \n",
    "\n",
    "\n",
    "Substituindo $ s $:\n",
    "\n",
    "$$\n",
    "s \\approx \\frac{2}{T} \\cdot \\frac{1 - z^{-1}}{1 + z^{-1}}\n",
    "$$\n",
    "\n",
    "Com $ T = 0,01s $, isso se torna:\n",
    "\n",
    "$$\n",
    "s \\approx \\frac{2}{0{,}01} \\cdot \\frac{1 - z^{-1}}{1 + z^{-1}} = 200 \\cdot \\frac{1 - z^{-1}}{1 + z^{-1}}\n",
    "$$\n",
    "\n",
    "\n",
    "Substituindo $ s $ em $ H(s) = \\frac{5{,}265}{s^2 + 1{,}455s + 5{,}265} $:\n",
    "\n",
    "$$\n",
    "H(z) = \\frac{5{,}265}{\\left(200 \\cdot \\frac{1 - z^{-1}}{1 + z^{-1}}\\right)^2 + 1{,}455 \\cdot \\left(200 \\cdot \\frac{1 - z^{-1}}{1 + z^{-1}}\\right) + 5{,}265}\n",
    "$$\n",
    "\n",
    "\n",
    "Expandindo $ \\left(200 \\cdot \\frac{1 - z^{-1}}{1 + z^{-1}}\\right)^2 $:\n",
    "\n",
    "$$\n",
    "\\left(200 \\cdot \\frac{1 - z^{-1}}{1 + z^{-1}}\\right)^2 = 40000 \\cdot \\frac{(1 - z^{-1})^2}{(1 + z^{-1})^2}\n",
    "$$\n",
    "\n",
    "E para o termo linear:\n",
    "\n",
    "$$\n",
    "1{,}455 \\cdot \\left(200 \\cdot \\frac{1 - z^{-1}}{1 + z^{-1}}\\right) = 291 \\cdot \\frac{1 - z^{-1}}{1 + z^{-1}}\n",
    "$$\n",
    "\n",
    "Substituindo esses resultados na função de transferência:\n",
    "\n",
    "$$\n",
    "H(z) = \\frac{5{,}265 \\cdot (1 + z^{-1})^2}{40000 \\cdot (1 - z^{-1})^2 + 291 \\cdot (1 - z^{-1})(1 + z^{-1}) + 5{,}265 \\cdot (1 + z^{-1})^2}\n",
    "$$\n",
    "\n",
    "\n",
    "Expandindo e simplificando os termos:\n",
    "\n",
    "Numerador:\n",
    "\n",
    "$$\n",
    "5{,}265 \\cdot (1 + z^{-1})^2 = 5{,}265 \\cdot (1 + 2z^{-1} + z^{-2}) = 5{,}265 + 10{,}53z^{-1} + 5{,}265z^{-2}\n",
    "$$\n",
    "\n",
    "Denominador:\n",
    "\n",
    "$$\n",
    "40000 \\cdot (1 - 2z^{-1} + z^{-2}) + 291 \\cdot (1 - z^{-2}) + 5{,}265 + 10{,}53z^{-1} + 5{,}265z^{-2}\n",
    "$$\n",
    "\n",
    "Expandindo:\n",
    "\n",
    "$$\n",
    "40000 - 80000z^{-1} + 40000z^{-2} + 291 - 291z^{-2} + 5{,}265 + 10{,}53z^{-1} + 5{,}265z^{-2}\n",
    "$$\n",
    "\n",
    "Simplificando o denominador:\n",
    "\n",
    "$$\n",
    "(40000 + 291 + 5{,}265) + (-80000 + 10{,}53)z^{-1} + (40000 - 291 + 5{,}265)z^{-2}\n",
    "$$\n",
    "\n",
    "Isso resulta em:\n",
    "\n",
    "$$\n",
    "403{,}291 + (-79989{,}47)z^{-1} + 44874{,}265z^{-2}\n",
    "$$\n",
    "\n",
    "\n",
    "Agora, a função de transferência discreta pode ser expressa como:\n",
    "\n",
    "$$\n",
    "H(z) = \\frac{5{,}265 + 10{,}53z^{-1} + 5{,}265z^{-2}}{403{,}291 - 79989{,}47z^{-1} + 44874{,}265z^{-2}}\n",
    "$$"
   ]
  },
  {
   "cell_type": "markdown",
   "metadata": {},
   "source": [
    "***\n",
    "#### b) Estimar o overshoot e o tempo de acomodação do sistema discreto.\n"
   ]
  },
  {
   "cell_type": "markdown",
   "metadata": {},
   "source": [
    "Resposta: \n",
    "\n",
    "\n",
    "\n",
    "A equação característica em $ s $ é dada por:\n",
    "\n",
    "$$\n",
    "s^2 + 2\\zeta\\omega_n s + \\omega_n^2 = 0\n",
    "$$\n",
    "\n",
    "Comparando com os coeficientes da função de transferência contínua, temos:\n",
    "\n",
    "$$\n",
    "\\zeta = \\frac{1{,}455}{2\\sqrt{5{,}265}} \\approx 0{,}317\n",
    "$$\n",
    "$$\n",
    "\\omega_n = \\sqrt{5{,}265} \\approx 2{,}294\n",
    "$$\n",
    "\n",
    "\n",
    "   \n",
    "O overshoot é dado pela fórmula:\n",
    "\n",
    "$$\n",
    "M_p = \\exp\\left(\\frac{-\\pi \\zeta}{\\sqrt{1 - \\zeta^2}}\\right) \\times 100\\%\n",
    "$$\n",
    "\n",
    "Substituindo $ \\zeta = 0{,}317 $:\n",
    "\n",
    "$$\n",
    "M_p \\approx \\exp\\left(\\frac{-\\pi \\cdot 0{,}317}{\\sqrt{1 - 0{,}317^2}}\\right) \\times 100\\% \\approx 48{,}34\\%\n",
    "$$\n",
    "\n",
    "\n",
    "\n",
    "\n",
    "O tempo de acomodação pode ser estimado usando:\n",
    "\n",
    "$$\n",
    "t_s \\approx \\frac{4}{\\zeta \\omega_n}\n",
    "$$\n",
    "\n",
    "Para $ \\zeta = 0{,}317 $ e $ \\omega_n = 2{,}294 $:\n",
    "\n",
    "$$\n",
    "t_s \\approx \\frac{4}{0{,}317 \\times 2{,}294} \\approx 5{,}55 \\text{ segundos}\n",
    "$$\n",
    "\n",
    "- **Overshoot estimado: $ M_p $** = 48,34%.\n",
    "- **Tempo de Acomodação estimado: $ t_s $** = 5,55 segundos."
   ]
  },
  {
   "cell_type": "markdown",
   "metadata": {},
   "source": [
    "### 2) Obter um programa em Python para o sistema discreto do exercício 1. Simular uma entrada do tipo degrau com amplitude unitária e comparar as medidas de overshoot e tempo de acomodação obtidas com aquelas do exercício 1b."
   ]
  },
  {
   "cell_type": "markdown",
   "metadata": {},
   "source": [
    "Obtendo Sistema Discretro:"
   ]
  },
  {
   "cell_type": "code",
   "execution_count": 7,
   "metadata": {},
   "outputs": [
    {
     "name": "stdout",
     "output_type": "stream",
     "text": [
      "Sistema Discreto:\n",
      "<TransferFunction>: sys[8]$sampled\n",
      "Inputs (1): ['u[0]']\n",
      "Outputs (1): ['y[0]']\n",
      "\n",
      "\n",
      "0.000262 z + 0.0002607\n",
      "----------------------\n",
      "z^2 - 1.985 z + 0.9856\n",
      "\n",
      "dt = 0.01\n",
      "\n"
     ]
    }
   ],
   "source": [
    "import control as ctrl\n",
    "\n",
    "# Definindo a função de transferência contínua\n",
    "num = [5.265]\n",
    "den = [1, 1.455, 5.265]\n",
    "H_s = ctrl.TransferFunction(num, den)\n",
    "\n",
    "# Período de amostragem\n",
    "T = 0.01\n",
    "\n",
    "# Convertendo para função de transferência discreta\n",
    "H_z = ctrl.c2d(H_s, T, method='zoh')\n",
    "\n",
    "print(\"Sistema Discreto:\")\n",
    "print(H_z)\n"
   ]
  },
  {
   "cell_type": "markdown",
   "metadata": {},
   "source": [
    "Obtendo Equação das Diferenças:"
   ]
  },
  {
   "cell_type": "code",
   "execution_count": 8,
   "metadata": {},
   "outputs": [
    {
     "name": "stdout",
     "output_type": "stream",
     "text": [
      "Coeficientes do numerador: [0.00026197 0.0002607 ]\n",
      "Coeficientes do denominador: [ 1.         -1.98503267  0.98555534]\n",
      "Equação de diferenças: y[n] = 0.0003 * x[n-0] + 0.0003 * x[n-1] - -1.9850 * y[n-1] - 0.9856 * y[n-2]\n"
     ]
    }
   ],
   "source": [
    "# Obter os coeficientes do numerador e denominador\n",
    "num_d = H_z.num[0][0]\n",
    "den_d = H_z.den[0][0]\n",
    "\n",
    "print(f\"Coeficientes do numerador: {num_d}\")\n",
    "print(f\"Coeficientes do denominador: {den_d}\")\n",
    "\n",
    "# Formatar a equação de diferenças\n",
    "equation = \"y[n] = \"\n",
    "for i, coef in enumerate(num_d):\n",
    "    if i == 0:\n",
    "        equation += f\"{coef:.4f} * x[n-{i}]\"\n",
    "    else:\n",
    "        equation += f\" + {coef:.4f} * x[n-{i}]\"\n",
    "\n",
    "for i, coef in enumerate(den_d[1:], start=1):\n",
    "    equation += f\" - {coef:.4f} * y[n-{i}]\"\n",
    "\n",
    "print(f\"Equação de diferenças: {equation}\")"
   ]
  },
  {
   "cell_type": "markdown",
   "metadata": {},
   "source": [
    "Obtendo Resposta ao Degrau:"
   ]
  },
  {
   "cell_type": "code",
   "execution_count": 9,
   "metadata": {},
   "outputs": [
    {
     "data": {
      "image/png": "[encoded data removed]",
      "text/plain": [
       "<Figure size 640x480 with 1 Axes>"
      ]
     },
     "metadata": {},
     "output_type": "display_data"
    }
   ],
   "source": [
    "import numpy as np\n",
    "import matplotlib.pyplot as plt\n",
    "\n",
    "# Simulação da resposta ao degrau\n",
    "t, y = ctrl.step_response(H_z)\n",
    "\n",
    "# Plotar a resposta ao degrau\n",
    "plt.figure()\n",
    "plt.plot(t, y)\n",
    "plt.title('Resposta ao Degrau')\n",
    "plt.xlabel('Tempo (s)')\n",
    "plt.ylabel('Amplitude')\n",
    "plt.grid(True)\n",
    "plt.show()"
   ]
  },
  {
   "cell_type": "markdown",
   "metadata": {},
   "source": [
    "Calculando Overshoot e Tempo de acomodação:"
   ]
  },
  {
   "cell_type": "code",
   "execution_count": 10,
   "metadata": {},
   "outputs": [
    {
     "name": "stdout",
     "output_type": "stream",
     "text": [
      "Overshoot (Mp%): 34.99%\n",
      "Tempo de acomodação (Ta): 9.50 segundos\n"
     ]
    }
   ],
   "source": [
    "# calcular overshot\n",
    "y_final = y[-1]\n",
    "overshoot = (np.max(y) - y_final) / y_final * 100\n",
    "\n",
    "# calcular tempo de acomodação\n",
    "tolerance = 0.02\n",
    "settling_time = t[np.where(np.abs(y - y_final) <= tolerance * y_final)[0][-1]]\n",
    "\n",
    "print(f\"Overshoot (Mp%): {overshoot:.2f}%\")\n",
    "print(f\"Tempo de acomodação (Ta): {settling_time:.2f} segundos\")"
   ]
  },
  {
   "cell_type": "markdown",
   "metadata": {},
   "source": [
    "3) Seja um sistema dinâmico representado pela seguinte resposta ao impulso:\n",
    "h = [2, -5, -3, -1, 1]\n",
    "\n",
    "\n",
    "Pede-se:"
   ]
  },
  {
   "cell_type": "markdown",
   "metadata": {},
   "source": []
  },
  {
   "cell_type": "markdown",
   "metadata": {},
   "source": [
    "a) Calcular (manualmente) a saída desse sistema para um sinal de entrada x = [1, 2, 3, 1, -1, -2].\n",
    "\n",
    "\n",
    "Memorial de cálculo:\n",
    "\n",
    "y[0]=1⋅2= 2\n",
    "\n",
    "y[1]=1⋅−5+2⋅2=−5+4= −1\n",
    "\n",
    "y[2]=1⋅−3+2⋅−5+3⋅2=−3−10+6=−7\n",
    "\n",
    "y[3]=1⋅−1+2⋅−3+3⋅−5+1⋅2=−1−6−15+2=−20\n",
    "\n",
    "y[4]=1⋅1+2⋅−1+3⋅−3+1⋅−5+(−1)⋅2=1−2−9−5−2=−17\n",
    "\n",
    "y[5]=2⋅1+3⋅−1+1⋅−3+(−1)⋅−5+(−2)⋅2=2−3−3+5−4=−3\n",
    "\n",
    "y[6]=3⋅1+1⋅−1+(−1)⋅−3+(−2)⋅−5=3−1+3+10=15\n",
    "\n",
    "y[7]=1⋅1+(−1)⋅−1+(−2)⋅−3=1+1+6=8\n",
    "\n",
    "y[8]=(−1)⋅1+(−2)⋅−1=−1+2=1\n",
    "\n",
    "y[9]=(−2)⋅1=−2\n",
    "\n",
    "Sinal de saída: y = [2,−1,−7,−20,−17,−3,15,8,1,−2]"
   ]
  },
  {
   "cell_type": "markdown",
   "metadata": {},
   "source": [
    "b) Calcular (usando o Python) a saída desse sistema para o mesmo sinal do item a."
   ]
  },
  {
   "cell_type": "code",
   "execution_count": 12,
   "metadata": {},
   "outputs": [
    {
     "name": "stdout",
     "output_type": "stream",
     "text": [
      "Entrada (x): [1, 2, 3, 1, -1, -2]\n",
      "Resposta ao impulso (h): [2, -5, -3, -1, 1]\n",
      "Sinal de saída: y = [  2  -1  -7 -20 -17  -3  15   8   1  -2]\n"
     ]
    }
   ],
   "source": [
    "# Definir a entrada x e a resposta ao impulso h\n",
    "x = [1, 2, 3, 1, -1, -2]\n",
    "h = [2, -5, -3, -1, 1]\n",
    "\n",
    "# Calcular a convolução de x e h\n",
    "y = np.convolve(x, h)\n",
    "\n",
    "print(f\"Entrada (x): {x}\")\n",
    "print(f\"Resposta ao impulso (h): {h}\")\n",
    "print(f\"Sinal de saída: y = {y}\")"
   ]
  }
 ],
 "metadata": {
  "kernelspec": {
   "display_name": "digital-signal-processing-_OpJIL78-py3.11",
   "language": "python",
   "name": "python3"
  },
  "language_info": {
   "codemirror_mode": {
    "name": "ipython",
    "version": 3
   },
   "file_extension": ".py",
   "mimetype": "text/x-python",
   "name": "python",
   "nbconvert_exporter": "python",
   "pygments_lexer": "ipython3",
   "version": "3.11.2"
  }
 },
 "nbformat": 4,
 "nbformat_minor": 2
}
